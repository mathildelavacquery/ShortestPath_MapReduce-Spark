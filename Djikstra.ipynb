{
 "cells": [
  {
   "cell_type": "code",
   "execution_count": 23,
   "metadata": {
    "collapsed": true
   },
   "outputs": [],
   "source": [
    "import pandas as pd\n",
    "import math"
   ]
  },
  {
   "cell_type": "code",
   "execution_count": 24,
   "metadata": {},
   "outputs": [
    {
     "data": {
      "text/html": [
       "<div>\n",
       "<style>\n",
       "    .dataframe thead tr:only-child th {\n",
       "        text-align: right;\n",
       "    }\n",
       "\n",
       "    .dataframe thead th {\n",
       "        text-align: left;\n",
       "    }\n",
       "\n",
       "    .dataframe tbody tr th {\n",
       "        vertical-align: top;\n",
       "    }\n",
       "</style>\n",
       "<table border=\"1\" class=\"dataframe\">\n",
       "  <thead>\n",
       "    <tr style=\"text-align: right;\">\n",
       "      <th></th>\n",
       "      <th>DEPART</th>\n",
       "      <th>ARRIVEE</th>\n",
       "      <th>DISTANCE</th>\n",
       "    </tr>\n",
       "  </thead>\n",
       "  <tbody>\n",
       "    <tr>\n",
       "      <th>0</th>\n",
       "      <td>A</td>\n",
       "      <td>B</td>\n",
       "      <td>3</td>\n",
       "    </tr>\n",
       "    <tr>\n",
       "      <th>1</th>\n",
       "      <td>A</td>\n",
       "      <td>C</td>\n",
       "      <td>4</td>\n",
       "    </tr>\n",
       "    <tr>\n",
       "      <th>2</th>\n",
       "      <td>A</td>\n",
       "      <td>D</td>\n",
       "      <td>8</td>\n",
       "    </tr>\n",
       "    <tr>\n",
       "      <th>3</th>\n",
       "      <td>B</td>\n",
       "      <td>C</td>\n",
       "      <td>4</td>\n",
       "    </tr>\n",
       "    <tr>\n",
       "      <th>4</th>\n",
       "      <td>B</td>\n",
       "      <td>E</td>\n",
       "      <td>9</td>\n",
       "    </tr>\n",
       "    <tr>\n",
       "      <th>5</th>\n",
       "      <td>C</td>\n",
       "      <td>D</td>\n",
       "      <td>4</td>\n",
       "    </tr>\n",
       "    <tr>\n",
       "      <th>6</th>\n",
       "      <td>C</td>\n",
       "      <td>E</td>\n",
       "      <td>5</td>\n",
       "    </tr>\n",
       "    <tr>\n",
       "      <th>7</th>\n",
       "      <td>D</td>\n",
       "      <td>E</td>\n",
       "      <td>7</td>\n",
       "    </tr>\n",
       "    <tr>\n",
       "      <th>8</th>\n",
       "      <td>D</td>\n",
       "      <td>F</td>\n",
       "      <td>4</td>\n",
       "    </tr>\n",
       "    <tr>\n",
       "      <th>9</th>\n",
       "      <td>D</td>\n",
       "      <td>B</td>\n",
       "      <td>6</td>\n",
       "    </tr>\n",
       "    <tr>\n",
       "      <th>10</th>\n",
       "      <td>E</td>\n",
       "      <td>G</td>\n",
       "      <td>8</td>\n",
       "    </tr>\n",
       "    <tr>\n",
       "      <th>11</th>\n",
       "      <td>E</td>\n",
       "      <td>C</td>\n",
       "      <td>5</td>\n",
       "    </tr>\n",
       "    <tr>\n",
       "      <th>12</th>\n",
       "      <td>F</td>\n",
       "      <td>G</td>\n",
       "      <td>10</td>\n",
       "    </tr>\n",
       "    <tr>\n",
       "      <th>13</th>\n",
       "      <td>F</td>\n",
       "      <td>B</td>\n",
       "      <td>15</td>\n",
       "    </tr>\n",
       "  </tbody>\n",
       "</table>\n",
       "</div>"
      ],
      "text/plain": [
       "   DEPART ARRIVEE  DISTANCE\n",
       "0       A       B         3\n",
       "1       A       C         4\n",
       "2       A       D         8\n",
       "3       B       C         4\n",
       "4       B       E         9\n",
       "5       C       D         4\n",
       "6       C       E         5\n",
       "7       D       E         7\n",
       "8       D       F         4\n",
       "9       D       B         6\n",
       "10      E       G         8\n",
       "11      E       C         5\n",
       "12      F       G        10\n",
       "13      F       B        15"
      ]
     },
     "execution_count": 24,
     "metadata": {},
     "output_type": "execute_result"
    }
   ],
   "source": [
    "table = pd.read_csv('TABLE.csv', sep =\";\")\n",
    "table"
   ]
  },
  {
   "cell_type": "code",
   "execution_count": 25,
   "metadata": {},
   "outputs": [
    {
     "data": {
      "text/html": [
       "<div>\n",
       "<style>\n",
       "    .dataframe thead tr:only-child th {\n",
       "        text-align: right;\n",
       "    }\n",
       "\n",
       "    .dataframe thead th {\n",
       "        text-align: left;\n",
       "    }\n",
       "\n",
       "    .dataframe tbody tr th {\n",
       "        vertical-align: top;\n",
       "    }\n",
       "</style>\n",
       "<table border=\"1\" class=\"dataframe\">\n",
       "  <thead>\n",
       "    <tr style=\"text-align: right;\">\n",
       "      <th></th>\n",
       "      <th>A</th>\n",
       "      <th>B</th>\n",
       "      <th>C</th>\n",
       "      <th>D</th>\n",
       "      <th>E</th>\n",
       "      <th>F</th>\n",
       "      <th>G</th>\n",
       "    </tr>\n",
       "  </thead>\n",
       "  <tbody>\n",
       "    <tr>\n",
       "      <th>A</th>\n",
       "      <td>0</td>\n",
       "      <td>3</td>\n",
       "      <td>4</td>\n",
       "      <td>8</td>\n",
       "      <td>0</td>\n",
       "      <td>0</td>\n",
       "      <td>0</td>\n",
       "    </tr>\n",
       "    <tr>\n",
       "      <th>B</th>\n",
       "      <td>0</td>\n",
       "      <td>0</td>\n",
       "      <td>4</td>\n",
       "      <td>0</td>\n",
       "      <td>9</td>\n",
       "      <td>0</td>\n",
       "      <td>0</td>\n",
       "    </tr>\n",
       "    <tr>\n",
       "      <th>C</th>\n",
       "      <td>0</td>\n",
       "      <td>0</td>\n",
       "      <td>0</td>\n",
       "      <td>4</td>\n",
       "      <td>5</td>\n",
       "      <td>0</td>\n",
       "      <td>0</td>\n",
       "    </tr>\n",
       "    <tr>\n",
       "      <th>D</th>\n",
       "      <td>0</td>\n",
       "      <td>6</td>\n",
       "      <td>0</td>\n",
       "      <td>0</td>\n",
       "      <td>7</td>\n",
       "      <td>4</td>\n",
       "      <td>0</td>\n",
       "    </tr>\n",
       "    <tr>\n",
       "      <th>E</th>\n",
       "      <td>0</td>\n",
       "      <td>0</td>\n",
       "      <td>5</td>\n",
       "      <td>0</td>\n",
       "      <td>0</td>\n",
       "      <td>0</td>\n",
       "      <td>8</td>\n",
       "    </tr>\n",
       "    <tr>\n",
       "      <th>F</th>\n",
       "      <td>0</td>\n",
       "      <td>15</td>\n",
       "      <td>0</td>\n",
       "      <td>0</td>\n",
       "      <td>0</td>\n",
       "      <td>0</td>\n",
       "      <td>10</td>\n",
       "    </tr>\n",
       "    <tr>\n",
       "      <th>G</th>\n",
       "      <td>0</td>\n",
       "      <td>0</td>\n",
       "      <td>0</td>\n",
       "      <td>0</td>\n",
       "      <td>0</td>\n",
       "      <td>0</td>\n",
       "      <td>0</td>\n",
       "    </tr>\n",
       "  </tbody>\n",
       "</table>\n",
       "</div>"
      ],
      "text/plain": [
       "   A   B  C  D  E  F   G\n",
       "A  0   3  4  8  0  0   0\n",
       "B  0   0  4  0  9  0   0\n",
       "C  0   0  0  4  5  0   0\n",
       "D  0   6  0  0  7  4   0\n",
       "E  0   0  5  0  0  0   8\n",
       "F  0  15  0  0  0  0  10\n",
       "G  0   0  0  0  0  0   0"
      ]
     },
     "execution_count": 25,
     "metadata": {},
     "output_type": "execute_result"
    }
   ],
   "source": [
    "names = [item for sublist in [list(table.DEPART) , list(table.ARRIVEE)]  for item in sublist]\n",
    "names = sorted(list(set(names)))\n",
    "\n",
    "adjmatrix = pd.DataFrame(columns = names)\n",
    "\n",
    "for m in names:\n",
    "    for n in names:\n",
    "        if n in list(table[table[\"DEPART\"] == m].ARRIVEE):\n",
    "            adjmatrix.loc[m,n] = float(table[(table[\"DEPART\"] == m) & (table[\"ARRIVEE\"] == n)].DISTANCE)\n",
    "        else:\n",
    "            adjmatrix.loc[m,n] = 0\n",
    "            \n",
    "adjmatrix     "
   ]
  },
  {
   "cell_type": "code",
   "execution_count": 71,
   "metadata": {},
   "outputs": [
    {
     "data": {
      "text/plain": [
       "[['A', 0.0, 'unvisited', ['A'], ['B', 3.0], ['C', 4.0], ['D', 8.0]],\n",
       " ['B', inf, 'unvisited', ['A'], ['C', 4.0], ['E', 9.0]],\n",
       " ['C', inf, 'unvisited', ['A'], ['D', 4.0], ['E', 5.0]],\n",
       " ['D', inf, 'unvisited', ['A'], ['B', 6.0], ['E', 7.0], ['F', 4.0]],\n",
       " ['E', inf, 'unvisited', ['A'], ['C', 5.0], ['G', 8.0]],\n",
       " ['F', inf, 'unvisited', ['A'], ['B', 15.0], ['G', 10.0]]]"
      ]
     },
     "execution_count": 71,
     "metadata": {},
     "output_type": "execute_result"
    }
   ],
   "source": [
    "adlist = []\n",
    "start = \"A\"\n",
    "stop = \"G\"\n",
    "\n",
    "for m in names:\n",
    "    if m == start:\n",
    "        sublist = [m, float(0), \"unvisited\",[start]]\n",
    "    else:\n",
    "        sublist = [m, math.inf, \"unvisited\", [start]]\n",
    "    \n",
    "    for n in names:\n",
    "        if adjmatrix.loc[m, n] > 0:\n",
    "            sublist.append([n, adjmatrix.loc[m, n]])  \n",
    "    if len(sublist) > 4:\n",
    "        adlist.append(sublist)\n",
    "adlist\n"
   ]
  },
  {
   "cell_type": "code",
   "execution_count": 72,
   "metadata": {},
   "outputs": [
    {
     "data": {
      "text/plain": [
       "[['A', 0.0, 'visited', ['A'], ['B', 3.0], ['C', 4.0], ['D', 8.0]],\n",
       " ['B', 3.0, 'unvisited', ['A']],\n",
       " ['C', 4.0, 'unvisited', ['A']],\n",
       " ['D', 8.0, 'unvisited', ['A']],\n",
       " ['B', inf, 'unvisited', ['A'], ['C', 4.0], ['E', 9.0]],\n",
       " ['C', inf, 'unvisited', ['A'], ['D', 4.0], ['E', 5.0]],\n",
       " ['D', inf, 'unvisited', ['A'], ['B', 6.0], ['E', 7.0], ['F', 4.0]],\n",
       " ['E', inf, 'unvisited', ['A'], ['C', 5.0], ['G', 8.0]],\n",
       " ['F', inf, 'unvisited', ['A'], ['B', 15.0], ['G', 10.0]]]"
      ]
     },
     "execution_count": 72,
     "metadata": {},
     "output_type": "execute_result"
    }
   ],
   "source": [
    "mapper_output = []\n",
    "\n",
    "for l in adlist:\n",
    "    new_m = []\n",
    "    if (l[2] == \"unvisited\") & (l[1] != math.inf):\n",
    "        l[2] = \"visited\"\n",
    "        if l[0] not in l[3]:\n",
    "            l[3].append(l[0])\n",
    "        mapper_output.append(l)\n",
    "        for m in l[4:]:\n",
    "            m[1] = m[1] + l[1]\n",
    "            new_m = m.copy()\n",
    "            new_m.append(\"unvisited\")\n",
    "            new_m.append([l[0]])\n",
    "            mapper_output.append(new_m)\n",
    "    else:\n",
    "        mapper_output.append(l)\n",
    "\n",
    "mapper_output"
   ]
  },
  {
   "cell_type": "markdown",
   "metadata": {},
   "source": [
    "Shuffle & sort part : on va sort par primary key : le node index (A,B etc.)"
   ]
  },
  {
   "cell_type": "code",
   "execution_count": 69,
   "metadata": {},
   "outputs": [
    {
     "data": {
      "text/plain": [
       "[['A', 0.0, 'visited', ['A'], ['B', 3.0], ['C', 4.0], ['D', 8.0]],\n",
       " ['B', 3.0, 'unvisited', 'A'],\n",
       " ['B', inf, 'unvisited', ['A'], ['C', 4.0], ['E', 9.0]],\n",
       " ['C', 4.0, 'unvisited', 'A'],\n",
       " ['C', inf, 'unvisited', ['A'], ['D', 4.0], ['E', 5.0]],\n",
       " ['D', 8.0, 'unvisited', 'A'],\n",
       " ['D', inf, 'unvisited', ['A'], ['B', 6.0], ['E', 7.0], ['F', 4.0]],\n",
       " ['E', inf, 'unvisited', ['A'], ['C', 5.0], ['G', 8.0]],\n",
       " ['F', inf, 'unvisited', ['A'], ['B', 15.0], ['G', 10.0]]]"
      ]
     },
     "execution_count": 69,
     "metadata": {},
     "output_type": "execute_result"
    }
   ],
   "source": [
    "# Shuffle & sort:\n",
    "\n",
    "sorted(mapper_output)"
   ]
  },
  {
   "cell_type": "code",
   "execution_count": 27,
   "metadata": {},
   "outputs": [
    {
     "name": "stdout",
     "output_type": "stream",
     "text": [
      "[[['C', inf], ['E', inf]], [['D', inf], ['E', inf]], [['B', inf], ['E', inf], ['F', inf]], [['C', inf], ['G', inf]], [['B', inf], ['G', inf]]]\n",
      "[[['B', 3.0], ['C', 4.0], ['D', 8.0]]]\n"
     ]
    }
   ],
   "source": [
    "# mapper1 BROUILLON\n",
    "\n",
    "visited_table = []\n",
    "current_node = start\n",
    "current_dist = []\n",
    "\n",
    "for l in adlist:\n",
    "    if l[1] != math.inf:\n",
    "        visited_table.append(l[2:])\n",
    "    else:\n",
    "        var_list = []\n",
    "        for j in range(len(l[2:])):\n",
    "            var_list. append([l[2:][j][0], math.inf])\n",
    "        current_dist.append(var_list)\n",
    "            \n",
    "print(current_dist)\n",
    "print(visited_table)"
   ]
  },
  {
   "cell_type": "code",
   "execution_count": 17,
   "metadata": {},
   "outputs": [
    {
     "data": {
      "text/plain": [
       "['B', 'C', 'D']"
      ]
     },
     "execution_count": 17,
     "metadata": {},
     "output_type": "execute_result"
    }
   ],
   "source": [
    "[m[0] for m in visited_table[0]]"
   ]
  },
  {
   "cell_type": "code",
   "execution_count": 18,
   "metadata": {},
   "outputs": [
    {
     "data": {
      "text/plain": [
       "[['A', 0, ['B', 3.0], ['C', 4.0], ['D', 8.0]],\n",
       " ['B', 3.0, ['C', 10.0], ['E', 15.0]],\n",
       " ['C', 4.0, ['D', 12.0], ['E', 13.0]],\n",
       " ['D', 8.0, ['B', 22.0], ['E', 23.0], ['F', 20.0]],\n",
       " ['E', inf, ['C', 5.0], ['G', 8.0]],\n",
       " ['F', inf, ['B', 15.0], ['G', 10.0]]]"
      ]
     },
     "execution_count": 18,
     "metadata": {},
     "output_type": "execute_result"
    }
   ],
   "source": [
    "red_output = []\n",
    "\n",
    "for l in adlist:\n",
    "    for m in visited_table[0]:\n",
    "        if l[0] == m[0]:\n",
    "            l[1] = m[1]\n",
    "            for i in range(len(l[2:])):\n",
    "                l[2:][i][1] = l[2:][i][1] + m[1]\n",
    "                \n",
    "    red_output.append(l)\n",
    "\n",
    "red_output"
   ]
  },
  {
   "cell_type": "code",
   "execution_count": 15,
   "metadata": {},
   "outputs": [
    {
     "data": {
      "text/plain": [
       "True"
      ]
     },
     "execution_count": 15,
     "metadata": {},
     "output_type": "execute_result"
    }
   ],
   "source": [
    "red_output[2][1] != math.inf"
   ]
  },
  {
   "cell_type": "code",
   "execution_count": 35,
   "metadata": {},
   "outputs": [
    {
     "data": {
      "text/plain": [
       "[['B', 3.0],\n",
       " ['C', 4.0],\n",
       " ['D', 8.0],\n",
       " ['C', 10.0],\n",
       " ['E', 15.0],\n",
       " ['D', 12.0],\n",
       " ['E', 13.0],\n",
       " ['B', 22.0],\n",
       " ['E', 23.0],\n",
       " ['F', 20.0]]"
      ]
     },
     "execution_count": 35,
     "metadata": {},
     "output_type": "execute_result"
    }
   ],
   "source": [
    "## MAPPER 2\n",
    "# on veut avoir la liste des nodes parcourus, et garder les plus petits pour chaque point à partir du node d'avant\n",
    "\n",
    "step = 2 # on a parcouru tous les nodes qui étaient à 1 vecteur de start, maintenant on veut append les distances\n",
    "visited_table = []\n",
    "\n",
    "for l in red_output:\n",
    "    if l[1] != math.inf:\n",
    "        for i in range(len(l[2:])):\n",
    "            visited_table.append(l[2:][i])\n",
    "        \n",
    "visited_table"
   ]
  }
 ],
 "metadata": {
  "kernelspec": {
   "display_name": "Python 3",
   "language": "python",
   "name": "python3"
  },
  "language_info": {
   "codemirror_mode": {
    "name": "ipython",
    "version": 3
   },
   "file_extension": ".py",
   "mimetype": "text/x-python",
   "name": "python",
   "nbconvert_exporter": "python",
   "pygments_lexer": "ipython3",
   "version": "3.6.3"
  }
 },
 "nbformat": 4,
 "nbformat_minor": 2
}
