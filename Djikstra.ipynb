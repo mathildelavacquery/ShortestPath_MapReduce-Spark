{
 "cells": [
  {
   "cell_type": "code",
   "execution_count": 111,
   "metadata": {
    "collapsed": true
   },
   "outputs": [],
   "source": [
    "import pandas as pd\n",
    "import math"
   ]
  },
  {
   "cell_type": "code",
   "execution_count": 3,
   "metadata": {},
   "outputs": [
    {
     "data": {
      "text/html": [
       "<div>\n",
       "<style>\n",
       "    .dataframe thead tr:only-child th {\n",
       "        text-align: right;\n",
       "    }\n",
       "\n",
       "    .dataframe thead th {\n",
       "        text-align: left;\n",
       "    }\n",
       "\n",
       "    .dataframe tbody tr th {\n",
       "        vertical-align: top;\n",
       "    }\n",
       "</style>\n",
       "<table border=\"1\" class=\"dataframe\">\n",
       "  <thead>\n",
       "    <tr style=\"text-align: right;\">\n",
       "      <th></th>\n",
       "      <th>DEPART</th>\n",
       "      <th>ARRIVEE</th>\n",
       "      <th>DISTANCE</th>\n",
       "    </tr>\n",
       "  </thead>\n",
       "  <tbody>\n",
       "    <tr>\n",
       "      <th>0</th>\n",
       "      <td>A</td>\n",
       "      <td>B</td>\n",
       "      <td>3</td>\n",
       "    </tr>\n",
       "    <tr>\n",
       "      <th>1</th>\n",
       "      <td>A</td>\n",
       "      <td>C</td>\n",
       "      <td>4</td>\n",
       "    </tr>\n",
       "    <tr>\n",
       "      <th>2</th>\n",
       "      <td>A</td>\n",
       "      <td>D</td>\n",
       "      <td>8</td>\n",
       "    </tr>\n",
       "    <tr>\n",
       "      <th>3</th>\n",
       "      <td>B</td>\n",
       "      <td>C</td>\n",
       "      <td>4</td>\n",
       "    </tr>\n",
       "    <tr>\n",
       "      <th>4</th>\n",
       "      <td>B</td>\n",
       "      <td>E</td>\n",
       "      <td>9</td>\n",
       "    </tr>\n",
       "    <tr>\n",
       "      <th>5</th>\n",
       "      <td>C</td>\n",
       "      <td>D</td>\n",
       "      <td>4</td>\n",
       "    </tr>\n",
       "    <tr>\n",
       "      <th>6</th>\n",
       "      <td>C</td>\n",
       "      <td>E</td>\n",
       "      <td>5</td>\n",
       "    </tr>\n",
       "    <tr>\n",
       "      <th>7</th>\n",
       "      <td>D</td>\n",
       "      <td>E</td>\n",
       "      <td>7</td>\n",
       "    </tr>\n",
       "    <tr>\n",
       "      <th>8</th>\n",
       "      <td>D</td>\n",
       "      <td>F</td>\n",
       "      <td>4</td>\n",
       "    </tr>\n",
       "    <tr>\n",
       "      <th>9</th>\n",
       "      <td>E</td>\n",
       "      <td>G</td>\n",
       "      <td>8</td>\n",
       "    </tr>\n",
       "    <tr>\n",
       "      <th>10</th>\n",
       "      <td>F</td>\n",
       "      <td>G</td>\n",
       "      <td>10</td>\n",
       "    </tr>\n",
       "  </tbody>\n",
       "</table>\n",
       "</div>"
      ],
      "text/plain": [
       "   DEPART ARRIVEE  DISTANCE\n",
       "0       A       B         3\n",
       "1       A       C         4\n",
       "2       A       D         8\n",
       "3       B       C         4\n",
       "4       B       E         9\n",
       "5       C       D         4\n",
       "6       C       E         5\n",
       "7       D       E         7\n",
       "8       D       F         4\n",
       "9       E       G         8\n",
       "10      F       G        10"
      ]
     },
     "execution_count": 3,
     "metadata": {},
     "output_type": "execute_result"
    }
   ],
   "source": [
    "table = pd.read_csv('TABLE.csv', sep =\";\")\n",
    "table"
   ]
  },
  {
   "cell_type": "code",
   "execution_count": 93,
   "metadata": {},
   "outputs": [
    {
     "data": {
      "text/html": [
       "<div>\n",
       "<style>\n",
       "    .dataframe thead tr:only-child th {\n",
       "        text-align: right;\n",
       "    }\n",
       "\n",
       "    .dataframe thead th {\n",
       "        text-align: left;\n",
       "    }\n",
       "\n",
       "    .dataframe tbody tr th {\n",
       "        vertical-align: top;\n",
       "    }\n",
       "</style>\n",
       "<table border=\"1\" class=\"dataframe\">\n",
       "  <thead>\n",
       "    <tr style=\"text-align: right;\">\n",
       "      <th></th>\n",
       "      <th>A</th>\n",
       "      <th>B</th>\n",
       "      <th>C</th>\n",
       "      <th>D</th>\n",
       "      <th>E</th>\n",
       "      <th>F</th>\n",
       "      <th>G</th>\n",
       "    </tr>\n",
       "  </thead>\n",
       "  <tbody>\n",
       "    <tr>\n",
       "      <th>A</th>\n",
       "      <td>0</td>\n",
       "      <td>3</td>\n",
       "      <td>4</td>\n",
       "      <td>8</td>\n",
       "      <td>0</td>\n",
       "      <td>0</td>\n",
       "      <td>0</td>\n",
       "    </tr>\n",
       "    <tr>\n",
       "      <th>B</th>\n",
       "      <td>0</td>\n",
       "      <td>0</td>\n",
       "      <td>4</td>\n",
       "      <td>0</td>\n",
       "      <td>9</td>\n",
       "      <td>0</td>\n",
       "      <td>0</td>\n",
       "    </tr>\n",
       "    <tr>\n",
       "      <th>C</th>\n",
       "      <td>0</td>\n",
       "      <td>0</td>\n",
       "      <td>0</td>\n",
       "      <td>4</td>\n",
       "      <td>5</td>\n",
       "      <td>0</td>\n",
       "      <td>0</td>\n",
       "    </tr>\n",
       "    <tr>\n",
       "      <th>D</th>\n",
       "      <td>0</td>\n",
       "      <td>0</td>\n",
       "      <td>0</td>\n",
       "      <td>0</td>\n",
       "      <td>7</td>\n",
       "      <td>4</td>\n",
       "      <td>0</td>\n",
       "    </tr>\n",
       "    <tr>\n",
       "      <th>E</th>\n",
       "      <td>0</td>\n",
       "      <td>0</td>\n",
       "      <td>0</td>\n",
       "      <td>0</td>\n",
       "      <td>0</td>\n",
       "      <td>0</td>\n",
       "      <td>8</td>\n",
       "    </tr>\n",
       "    <tr>\n",
       "      <th>F</th>\n",
       "      <td>0</td>\n",
       "      <td>0</td>\n",
       "      <td>0</td>\n",
       "      <td>0</td>\n",
       "      <td>0</td>\n",
       "      <td>0</td>\n",
       "      <td>10</td>\n",
       "    </tr>\n",
       "    <tr>\n",
       "      <th>G</th>\n",
       "      <td>0</td>\n",
       "      <td>0</td>\n",
       "      <td>0</td>\n",
       "      <td>0</td>\n",
       "      <td>0</td>\n",
       "      <td>0</td>\n",
       "      <td>0</td>\n",
       "    </tr>\n",
       "  </tbody>\n",
       "</table>\n",
       "</div>"
      ],
      "text/plain": [
       "   A  B  C  D  E  F   G\n",
       "A  0  3  4  8  0  0   0\n",
       "B  0  0  4  0  9  0   0\n",
       "C  0  0  0  4  5  0   0\n",
       "D  0  0  0  0  7  4   0\n",
       "E  0  0  0  0  0  0   8\n",
       "F  0  0  0  0  0  0  10\n",
       "G  0  0  0  0  0  0   0"
      ]
     },
     "execution_count": 93,
     "metadata": {},
     "output_type": "execute_result"
    }
   ],
   "source": [
    "names = [item for sublist in [list(table.DEPART) , list(table.ARRIVEE)]  for item in sublist]\n",
    "names = sorted(list(set(names)))\n",
    "\n",
    "adjmatrix = pd.DataFrame(columns = names)\n",
    "\n",
    "for m in names:\n",
    "    for n in names:\n",
    "        if n in list(table[table[\"DEPART\"] == m].ARRIVEE):\n",
    "            adjmatrix.loc[m,n] = float(table[(table[\"DEPART\"] == m) & (table[\"ARRIVEE\"] == n)].DISTANCE)\n",
    "        else:\n",
    "            adjmatrix.loc[m,n] = 0\n",
    "            \n",
    "adjmatrix     "
   ]
  },
  {
   "cell_type": "code",
   "execution_count": 116,
   "metadata": {},
   "outputs": [
    {
     "data": {
      "text/plain": [
       "[['A', 0, ['B', 3.0], ['C', 4.0], ['D', 8.0]],\n",
       " ['B', inf, ['C', 4.0], ['E', 9.0]],\n",
       " ['C', inf, ['D', 4.0], ['E', 5.0]],\n",
       " ['D', inf, ['E', 7.0], ['F', 4.0]],\n",
       " ['E', inf, ['G', 8.0]],\n",
       " ['F', inf, ['G', 10.0]]]"
      ]
     },
     "execution_count": 116,
     "metadata": {},
     "output_type": "execute_result"
    }
   ],
   "source": [
    "adlist = []\n",
    "start = \"A\"\n",
    "\n",
    "for m in names:\n",
    "    if m == start:\n",
    "        sublist = [m, 0]\n",
    "    else:\n",
    "        sublist = [m, math.inf]\n",
    "    \n",
    "    for n in names:\n",
    "        if adjmatrix.loc[m, n] > 0:\n",
    "            sublist.append([n, adjmatrix.loc[m, n]])  \n",
    "    if len(sublist) > 2:\n",
    "        adlist.append(sublist)\n",
    "adlist\n"
   ]
  },
  {
   "cell_type": "code",
   "execution_count": 123,
   "metadata": {},
   "outputs": [
    {
     "data": {
      "text/plain": [
       "'C'"
      ]
     },
     "execution_count": 123,
     "metadata": {},
     "output_type": "execute_result"
    }
   ],
   "source": [
    "adlist[1][2:][0][0]"
   ]
  },
  {
   "cell_type": "code",
   "execution_count": 132,
   "metadata": {},
   "outputs": [
    {
     "name": "stdout",
     "output_type": "stream",
     "text": [
      "[[['C', inf], ['E', inf]], [['D', inf], ['E', inf]], [['E', inf], ['F', inf]], [['G', inf]], [['G', inf]]]\n",
      "[[['B', 3.0], ['C', 4.0], ['D', 8.0]]]\n"
     ]
    }
   ],
   "source": [
    "# mapper1\n",
    "\n",
    "visited_table = []\n",
    "current_node = start\n",
    "current_dist = []\n",
    "\n",
    "for l in adlist:\n",
    "    if l[0] == current_node:\n",
    "        visited_table.append(l[2:])\n",
    "    else:\n",
    "        var_list = []\n",
    "        for j in range(len(l[2:])):\n",
    "            var_list. append([l[2:][j][0], math.inf])\n",
    "        current_dist.append(var_list)\n",
    "            \n",
    "print(current_dist)\n",
    "print(visited_table)"
   ]
  },
  {
   "cell_type": "code",
   "execution_count": 137,
   "metadata": {},
   "outputs": [
    {
     "data": {
      "text/plain": [
       "['B', 'C', 'D']"
      ]
     },
     "execution_count": 137,
     "metadata": {},
     "output_type": "execute_result"
    }
   ],
   "source": [
    "[m[0] for m in visited_table[0]]"
   ]
  },
  {
   "cell_type": "code",
   "execution_count": 138,
   "metadata": {},
   "outputs": [
    {
     "name": "stdout",
     "output_type": "stream",
     "text": [
      "['C', inf]\n",
      "['D', inf]\n"
     ]
    }
   ],
   "source": [
    "# reducer 1\n",
    "k = 1 # itération 1\n",
    "\n",
    "for l in current_dist:\n",
    "    for j in l:\n",
    "        if j[0] in [m[0] for m in visited_table[k-1]]:\n",
    "            print(j)\n",
    "\n"
   ]
  },
  {
   "cell_type": "code",
   "execution_count": 150,
   "metadata": {},
   "outputs": [
    {
     "data": {
      "text/plain": [
       "[['A', 0, ['B', 3.0], ['C', 4.0], ['D', 8.0]],\n",
       " ['B', 3.0, ['C', 7.0], ['E', 12.0]],\n",
       " ['C', 4.0, ['D', 8.0], ['E', 9.0]],\n",
       " ['D', 8.0, ['E', 15.0], ['F', 12.0]],\n",
       " ['E', inf, ['G', 8.0]],\n",
       " ['F', inf, ['G', 10.0]]]"
      ]
     },
     "execution_count": 150,
     "metadata": {},
     "output_type": "execute_result"
    }
   ],
   "source": [
    "red_output = []\n",
    "\n",
    "for l in adlist:\n",
    "    for m in visited_table[0]:\n",
    "        if l[0] == m[0]:\n",
    "            l[1] = m[1]\n",
    "            for i in range(len(l[2:])):\n",
    "                l[2:][i][1] = l[2:][i][1] + m[1]\n",
    "                \n",
    "    red_output.append(l)\n",
    "\n",
    "red_output"
   ]
  },
  {
   "cell_type": "code",
   "execution_count": null,
   "metadata": {
    "collapsed": true
   },
   "outputs": [],
   "source": [
    "## MAPPER 2\n",
    "# on veut avoir la liste des nodes parcourus, et garder les plus petits pour chaque point à partir du node d'avant\n",
    "\n",
    "current_step = 2 # on a parcouru tous les nodes qui étaient à 1 vecteur de start, maintenant on veut append les distances"
   ]
  }
 ],
 "metadata": {
  "kernelspec": {
   "display_name": "Python 3",
   "language": "python",
   "name": "python3"
  },
  "language_info": {
   "codemirror_mode": {
    "name": "ipython",
    "version": 3
   },
   "file_extension": ".py",
   "mimetype": "text/x-python",
   "name": "python",
   "nbconvert_exporter": "python",
   "pygments_lexer": "ipython3",
   "version": "3.6.3"
  }
 },
 "nbformat": 4,
 "nbformat_minor": 2
}
