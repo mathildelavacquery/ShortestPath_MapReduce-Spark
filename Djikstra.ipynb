{
 "cells": [
  {
   "cell_type": "code",
   "execution_count": 1,
   "metadata": {},
   "outputs": [],
   "source": [
    "import pandas as pd\n",
    "import math"
   ]
  },
  {
   "cell_type": "code",
   "execution_count": 2,
   "metadata": {},
   "outputs": [
    {
     "data": {
      "text/html": [
       "<div>\n",
       "<style scoped>\n",
       "    .dataframe tbody tr th:only-of-type {\n",
       "        vertical-align: middle;\n",
       "    }\n",
       "\n",
       "    .dataframe tbody tr th {\n",
       "        vertical-align: top;\n",
       "    }\n",
       "\n",
       "    .dataframe thead th {\n",
       "        text-align: right;\n",
       "    }\n",
       "</style>\n",
       "<table border=\"1\" class=\"dataframe\">\n",
       "  <thead>\n",
       "    <tr style=\"text-align: right;\">\n",
       "      <th></th>\n",
       "      <th>DEPART</th>\n",
       "      <th>ARRIVEE</th>\n",
       "      <th>DISTANCE</th>\n",
       "    </tr>\n",
       "  </thead>\n",
       "  <tbody>\n",
       "    <tr>\n",
       "      <th>0</th>\n",
       "      <td>A</td>\n",
       "      <td>B</td>\n",
       "      <td>3</td>\n",
       "    </tr>\n",
       "    <tr>\n",
       "      <th>1</th>\n",
       "      <td>A</td>\n",
       "      <td>C</td>\n",
       "      <td>4</td>\n",
       "    </tr>\n",
       "    <tr>\n",
       "      <th>2</th>\n",
       "      <td>A</td>\n",
       "      <td>D</td>\n",
       "      <td>8</td>\n",
       "    </tr>\n",
       "    <tr>\n",
       "      <th>3</th>\n",
       "      <td>B</td>\n",
       "      <td>C</td>\n",
       "      <td>4</td>\n",
       "    </tr>\n",
       "    <tr>\n",
       "      <th>4</th>\n",
       "      <td>B</td>\n",
       "      <td>E</td>\n",
       "      <td>9</td>\n",
       "    </tr>\n",
       "    <tr>\n",
       "      <th>5</th>\n",
       "      <td>C</td>\n",
       "      <td>D</td>\n",
       "      <td>4</td>\n",
       "    </tr>\n",
       "    <tr>\n",
       "      <th>6</th>\n",
       "      <td>C</td>\n",
       "      <td>E</td>\n",
       "      <td>5</td>\n",
       "    </tr>\n",
       "    <tr>\n",
       "      <th>7</th>\n",
       "      <td>D</td>\n",
       "      <td>E</td>\n",
       "      <td>7</td>\n",
       "    </tr>\n",
       "    <tr>\n",
       "      <th>8</th>\n",
       "      <td>D</td>\n",
       "      <td>F</td>\n",
       "      <td>4</td>\n",
       "    </tr>\n",
       "    <tr>\n",
       "      <th>9</th>\n",
       "      <td>D</td>\n",
       "      <td>B</td>\n",
       "      <td>6</td>\n",
       "    </tr>\n",
       "    <tr>\n",
       "      <th>10</th>\n",
       "      <td>E</td>\n",
       "      <td>G</td>\n",
       "      <td>8</td>\n",
       "    </tr>\n",
       "    <tr>\n",
       "      <th>11</th>\n",
       "      <td>E</td>\n",
       "      <td>C</td>\n",
       "      <td>5</td>\n",
       "    </tr>\n",
       "    <tr>\n",
       "      <th>12</th>\n",
       "      <td>F</td>\n",
       "      <td>G</td>\n",
       "      <td>10</td>\n",
       "    </tr>\n",
       "    <tr>\n",
       "      <th>13</th>\n",
       "      <td>F</td>\n",
       "      <td>B</td>\n",
       "      <td>15</td>\n",
       "    </tr>\n",
       "  </tbody>\n",
       "</table>\n",
       "</div>"
      ],
      "text/plain": [
       "   DEPART ARRIVEE  DISTANCE\n",
       "0       A       B         3\n",
       "1       A       C         4\n",
       "2       A       D         8\n",
       "3       B       C         4\n",
       "4       B       E         9\n",
       "5       C       D         4\n",
       "6       C       E         5\n",
       "7       D       E         7\n",
       "8       D       F         4\n",
       "9       D       B         6\n",
       "10      E       G         8\n",
       "11      E       C         5\n",
       "12      F       G        10\n",
       "13      F       B        15"
      ]
     },
     "execution_count": 2,
     "metadata": {},
     "output_type": "execute_result"
    }
   ],
   "source": [
    "table = pd.read_csv('TABLE.csv', sep =\";\")\n",
    "table"
   ]
  },
  {
   "cell_type": "code",
   "execution_count": 3,
   "metadata": {},
   "outputs": [
    {
     "data": {
      "text/html": [
       "<div>\n",
       "<style scoped>\n",
       "    .dataframe tbody tr th:only-of-type {\n",
       "        vertical-align: middle;\n",
       "    }\n",
       "\n",
       "    .dataframe tbody tr th {\n",
       "        vertical-align: top;\n",
       "    }\n",
       "\n",
       "    .dataframe thead th {\n",
       "        text-align: right;\n",
       "    }\n",
       "</style>\n",
       "<table border=\"1\" class=\"dataframe\">\n",
       "  <thead>\n",
       "    <tr style=\"text-align: right;\">\n",
       "      <th></th>\n",
       "      <th>A</th>\n",
       "      <th>B</th>\n",
       "      <th>C</th>\n",
       "      <th>D</th>\n",
       "      <th>E</th>\n",
       "      <th>F</th>\n",
       "      <th>G</th>\n",
       "    </tr>\n",
       "  </thead>\n",
       "  <tbody>\n",
       "    <tr>\n",
       "      <th>A</th>\n",
       "      <td>0</td>\n",
       "      <td>3</td>\n",
       "      <td>4</td>\n",
       "      <td>8</td>\n",
       "      <td>0</td>\n",
       "      <td>0</td>\n",
       "      <td>0</td>\n",
       "    </tr>\n",
       "    <tr>\n",
       "      <th>B</th>\n",
       "      <td>0</td>\n",
       "      <td>0</td>\n",
       "      <td>4</td>\n",
       "      <td>0</td>\n",
       "      <td>9</td>\n",
       "      <td>0</td>\n",
       "      <td>0</td>\n",
       "    </tr>\n",
       "    <tr>\n",
       "      <th>C</th>\n",
       "      <td>0</td>\n",
       "      <td>0</td>\n",
       "      <td>0</td>\n",
       "      <td>4</td>\n",
       "      <td>5</td>\n",
       "      <td>0</td>\n",
       "      <td>0</td>\n",
       "    </tr>\n",
       "    <tr>\n",
       "      <th>D</th>\n",
       "      <td>0</td>\n",
       "      <td>6</td>\n",
       "      <td>0</td>\n",
       "      <td>0</td>\n",
       "      <td>7</td>\n",
       "      <td>4</td>\n",
       "      <td>0</td>\n",
       "    </tr>\n",
       "    <tr>\n",
       "      <th>E</th>\n",
       "      <td>0</td>\n",
       "      <td>0</td>\n",
       "      <td>5</td>\n",
       "      <td>0</td>\n",
       "      <td>0</td>\n",
       "      <td>0</td>\n",
       "      <td>8</td>\n",
       "    </tr>\n",
       "    <tr>\n",
       "      <th>F</th>\n",
       "      <td>0</td>\n",
       "      <td>15</td>\n",
       "      <td>0</td>\n",
       "      <td>0</td>\n",
       "      <td>0</td>\n",
       "      <td>0</td>\n",
       "      <td>10</td>\n",
       "    </tr>\n",
       "    <tr>\n",
       "      <th>G</th>\n",
       "      <td>0</td>\n",
       "      <td>0</td>\n",
       "      <td>0</td>\n",
       "      <td>0</td>\n",
       "      <td>0</td>\n",
       "      <td>0</td>\n",
       "      <td>0</td>\n",
       "    </tr>\n",
       "  </tbody>\n",
       "</table>\n",
       "</div>"
      ],
      "text/plain": [
       "   A   B  C  D  E  F   G\n",
       "A  0   3  4  8  0  0   0\n",
       "B  0   0  4  0  9  0   0\n",
       "C  0   0  0  4  5  0   0\n",
       "D  0   6  0  0  7  4   0\n",
       "E  0   0  5  0  0  0   8\n",
       "F  0  15  0  0  0  0  10\n",
       "G  0   0  0  0  0  0   0"
      ]
     },
     "execution_count": 3,
     "metadata": {},
     "output_type": "execute_result"
    }
   ],
   "source": [
    "names = [item for sublist in [list(table.DEPART) , list(table.ARRIVEE)]  for item in sublist]\n",
    "names = sorted(list(set(names)))\n",
    "\n",
    "adjmatrix = pd.DataFrame(columns = names)\n",
    "\n",
    "for m in names:\n",
    "    for n in names:\n",
    "        if n in list(table[table[\"DEPART\"] == m].ARRIVEE):\n",
    "            adjmatrix.loc[m,n] = float(table[(table[\"DEPART\"] == m) & (table[\"ARRIVEE\"] == n)].DISTANCE)\n",
    "        else:\n",
    "            adjmatrix.loc[m,n] = 0\n",
    "            \n",
    "adjmatrix     "
   ]
  },
  {
   "cell_type": "code",
   "execution_count": 44,
   "metadata": {},
   "outputs": [
    {
     "data": {
      "text/plain": [
       "[['A', 0.0, 'unvisited', ['A'], ['B', 3.0], ['C', 4.0], ['D', 8.0]],\n",
       " ['B', inf, 'unvisited', ['A'], ['C', 4.0], ['E', 9.0]],\n",
       " ['C', inf, 'unvisited', ['A'], ['D', 4.0], ['E', 5.0]],\n",
       " ['D', inf, 'unvisited', ['A'], ['B', 6.0], ['E', 7.0], ['F', 4.0]],\n",
       " ['E', inf, 'unvisited', ['A'], ['C', 5.0], ['G', 8.0]],\n",
       " ['F', inf, 'unvisited', ['A'], ['B', 15.0], ['G', 10.0]]]"
      ]
     },
     "execution_count": 44,
     "metadata": {},
     "output_type": "execute_result"
    }
   ],
   "source": [
    "# PREPROCESSING: input initial pour mapper1\n",
    "\n",
    "adlist = []\n",
    "start = \"A\"\n",
    "stop = \"G\"\n",
    "\n",
    "for m in names:\n",
    "    if m == start:\n",
    "        sublist = [m, float(0), \"unvisited\",[start]]\n",
    "    else:\n",
    "        sublist = [m, math.inf, \"unvisited\", [start]]\n",
    "    \n",
    "    for n in names:\n",
    "        if adjmatrix.loc[m, n] > 0:\n",
    "            sublist.append([n, adjmatrix.loc[m, n]])  \n",
    "    if len(sublist) > 4:\n",
    "        adlist.append(sublist)\n",
    "adlist\n"
   ]
  },
  {
   "cell_type": "code",
   "execution_count": 45,
   "metadata": {},
   "outputs": [
    {
     "data": {
      "text/plain": [
       "[['A', 0.0, 'visited', ['A'], ['B', 3.0], ['C', 4.0], ['D', 8.0]],\n",
       " ['B', 3.0, 'unvisited', ['A', 'B']],\n",
       " ['C', 4.0, 'unvisited', ['A', 'C']],\n",
       " ['D', 8.0, 'unvisited', ['A', 'D']],\n",
       " ['B', inf, 'unvisited', ['A'], ['C', 4.0], ['E', 9.0]],\n",
       " ['C', inf, 'unvisited', ['A'], ['D', 4.0], ['E', 5.0]],\n",
       " ['D', inf, 'unvisited', ['A'], ['B', 6.0], ['E', 7.0], ['F', 4.0]],\n",
       " ['E', inf, 'unvisited', ['A'], ['C', 5.0], ['G', 8.0]],\n",
       " ['F', inf, 'unvisited', ['A'], ['B', 15.0], ['G', 10.0]]]"
      ]
     },
     "execution_count": 45,
     "metadata": {},
     "output_type": "execute_result"
    }
   ],
   "source": [
    "# ITERATION 1: mapper\n",
    "\n",
    "mapper_output = []\n",
    "\n",
    "for l in adlist:\n",
    "    new_m = []\n",
    "    \n",
    "    # conditions pour visiter un node: qu'il ne soit pas encore visite et que son weight soit différent de inf\n",
    "    if (l[2] == \"unvisited\") & (l[1] != math.inf):\n",
    "        l[2] = \"visited\"\n",
    "        \n",
    "        # mise à jour du path:\n",
    "        if l[0] not in l[3]:\n",
    "            l[3].append(l[0])\n",
    "        mapper_output.append(l)\n",
    "        \n",
    "        for m in l[4:]:\n",
    "            # nouvelles keys créées à partir des adjancy nodes du node visité\n",
    "            new_node = m.copy() # on a ici node_name + node distance to last neighbor\n",
    "            \n",
    "            # 2nd key - mise à jour des poids associés à chaque adjency node (but = toujours avoir distance from start)\n",
    "            new_node[1] = new_node[1] + l[1]\n",
    "            \n",
    "            # 3ème key - status\n",
    "            new_node.append(\"unvisited\")\n",
    "            \n",
    "            # 4ème key - path\n",
    "            new_path = l[3].copy() \n",
    "            if m[0] not in new_path:\n",
    "                new_path.append(m[0])\n",
    "            new_node.append(new_path)\n",
    "            \n",
    "            mapper_output.append(new_node)\n",
    "    else:\n",
    "        mapper_output.append(l)\n",
    "\n",
    "mapper_output"
   ]
  },
  {
   "cell_type": "code",
   "execution_count": 46,
   "metadata": {},
   "outputs": [
    {
     "data": {
      "text/plain": [
       "[['A', 0.0, 'visited', ['A'], ['B', 3.0], ['C', 4.0], ['D', 8.0]],\n",
       " ['B', 3.0, 'unvisited', ['A', 'B']],\n",
       " ['B', inf, 'unvisited', ['A'], ['C', 4.0], ['E', 9.0]],\n",
       " ['C', 4.0, 'unvisited', ['A', 'C']],\n",
       " ['C', inf, 'unvisited', ['A'], ['D', 4.0], ['E', 5.0]],\n",
       " ['D', 8.0, 'unvisited', ['A', 'D']],\n",
       " ['D', inf, 'unvisited', ['A'], ['B', 6.0], ['E', 7.0], ['F', 4.0]],\n",
       " ['E', inf, 'unvisited', ['A'], ['C', 5.0], ['G', 8.0]],\n",
       " ['F', inf, 'unvisited', ['A'], ['B', 15.0], ['G', 10.0]]]"
      ]
     },
     "execution_count": 46,
     "metadata": {},
     "output_type": "execute_result"
    }
   ],
   "source": [
    "# Shuffle & sort:\n",
    "\n",
    "mapper_output = sorted(mapper_output)\n",
    "mapper_output"
   ]
  },
  {
   "cell_type": "markdown",
   "metadata": {},
   "source": [
    "# A rajouter dans reducer :\n",
    "juste après la première boucle for \n",
    "while line[0] != stop_node: continue\n"
   ]
  },
  {
   "cell_type": "code",
   "execution_count": 48,
   "metadata": {},
   "outputs": [
    {
     "data": {
      "text/plain": [
       "[['A', 0.0, 'visited', ['A'], ['B', 3.0], ['C', 4.0], ['D', 8.0]],\n",
       " ['B', 3.0, 'unvisited', ['A', 'B'], ['C', 4.0], ['E', 9.0]],\n",
       " ['C', 4.0, 'unvisited', ['A', 'C'], ['D', 4.0], ['E', 5.0]],\n",
       " ['D', 8.0, 'unvisited', ['A', 'D'], ['B', 6.0], ['E', 7.0], ['F', 4.0]],\n",
       " ['E', inf, 'unvisited', ['A'], ['C', 5.0], ['G', 8.0]],\n",
       " ['F', inf, 'unvisited', ['A'], ['B', 15.0], ['G', 10.0]]]"
      ]
     },
     "execution_count": 48,
     "metadata": {},
     "output_type": "execute_result"
    }
   ],
   "source": [
    "# ITERATION 1: reducer\n",
    "\n",
    "red_output = []\n",
    "red_interm = []\n",
    "key_in_output = []\n",
    "\n",
    "# on rajoute les valeurs (= adjency nodes) pour chaque list_node qui n'a que la key\n",
    "for l in mapper_output:\n",
    "    new_node = l.copy()\n",
    "    for m in mapper_output:\n",
    "        if (m[0] == new_node[0]) & (len(m) > 4) & (new_node[1] < m[1]) :\n",
    "            for i in range(len(m[4:])):\n",
    "                new_node.append(m[4:][i])\n",
    "    if len(new_node) > 4:\n",
    "        red_interm.append(new_node)\n",
    "\n",
    "# Entre deux list_nodes pour le même node, on ne garde que celle qui a le plus petit weight\n",
    "\n",
    "for l in red_interm:\n",
    "    candidate = l # au départ on garde la première\n",
    "    for m in red_interm:\n",
    "        if (l[0]== m[0]) & (m[1] < l[1]):\n",
    "            candidate = m # on parcourt toutes les autres listes, et si une liste est plus petite > nouveau candidat\n",
    "    \n",
    "    if candidate[0] not in key_in_output:\n",
    "        red_output.append(candidate)\n",
    "        key_in_output.append(candidate[0])\n",
    "\n",
    "\n",
    "red_output"
   ]
  },
  {
   "cell_type": "code",
   "execution_count": 49,
   "metadata": {},
   "outputs": [
    {
     "data": {
      "text/plain": [
       "[['A', 0.0, 'visited', ['A'], ['B', 3.0], ['C', 4.0], ['D', 8.0]],\n",
       " ['B', 3.0, 'visited', ['A', 'B'], ['C', 4.0], ['E', 9.0]],\n",
       " ['C', 7.0, 'unvisited', ['A', 'B', 'C']],\n",
       " ['E', 12.0, 'unvisited', ['A', 'B', 'E']],\n",
       " ['C', 4.0, 'visited', ['A', 'C'], ['D', 4.0], ['E', 5.0]],\n",
       " ['D', 8.0, 'unvisited', ['A', 'C', 'D']],\n",
       " ['E', 9.0, 'unvisited', ['A', 'C', 'E']],\n",
       " ['D', 8.0, 'visited', ['A', 'D'], ['B', 6.0], ['E', 7.0], ['F', 4.0]],\n",
       " ['B', 14.0, 'unvisited', ['A', 'D', 'B']],\n",
       " ['E', 15.0, 'unvisited', ['A', 'D', 'E']],\n",
       " ['F', 12.0, 'unvisited', ['A', 'D', 'F']],\n",
       " ['E', inf, 'unvisited', ['A'], ['C', 5.0], ['G', 8.0]],\n",
       " ['F', inf, 'unvisited', ['A'], ['B', 15.0], ['G', 10.0]]]"
      ]
     },
     "execution_count": 49,
     "metadata": {},
     "output_type": "execute_result"
    }
   ],
   "source": [
    "# ITERATION 2: mapper\n",
    "\n",
    "mapper_output = []\n",
    "\n",
    "for l in red_output:\n",
    "    # conditions pour visiter un node: qu'il ne soit pas encore visite et que son weight soit différent de inf\n",
    "    if (l[2] == \"unvisited\") & (l[1] != math.inf):\n",
    "        l[2] = \"visited\"\n",
    "        \n",
    "        # mise à jour du path:\n",
    "        if l[0] not in l[3]:\n",
    "            l[3].append(l[0])\n",
    "        mapper_output.append(l)\n",
    "        \n",
    "        for m in l[4:]:\n",
    "           # nouvelles keys créées à partir des adjancy nodes du node visité\n",
    "            new_node = m.copy() # on a ici node_name + node distance to last neighbor\n",
    "            \n",
    "            # 2nd key - mise à jour des poids associés à chaque adjency node (but = toujours avoir distance from start)\n",
    "            new_node[1] = new_node[1] + l[1]\n",
    "            \n",
    "            # 3ème key - status\n",
    "            new_node.append(\"unvisited\")\n",
    "            \n",
    "            # 4ème key - path\n",
    "            new_path = l[3].copy() \n",
    "            if m[0] not in new_path:\n",
    "                new_path.append(m[0])\n",
    "            new_node.append(new_path)\n",
    "            \n",
    "            mapper_output.append(new_node)\n",
    "            \n",
    "    else:\n",
    "        mapper_output.append(l)\n",
    "\n",
    "mapper_output"
   ]
  },
  {
   "cell_type": "code",
   "execution_count": 51,
   "metadata": {},
   "outputs": [
    {
     "data": {
      "text/plain": [
       "[['A', 0.0, 'visited', ['A'], ['B', 3.0], ['C', 4.0], ['D', 8.0]],\n",
       " ['B', 3.0, 'visited', ['A', 'B'], ['C', 4.0], ['E', 9.0]],\n",
       " ['B', 14.0, 'unvisited', ['A', 'D', 'B']],\n",
       " ['C', 4.0, 'visited', ['A', 'C'], ['D', 4.0], ['E', 5.0]],\n",
       " ['C', 7.0, 'unvisited', ['A', 'B', 'C']],\n",
       " ['D', 8.0, 'unvisited', ['A', 'C', 'D']],\n",
       " ['D', 8.0, 'visited', ['A', 'D'], ['B', 6.0], ['E', 7.0], ['F', 4.0]],\n",
       " ['E', 9.0, 'unvisited', ['A', 'C', 'E']],\n",
       " ['E', 12.0, 'unvisited', ['A', 'B', 'E']],\n",
       " ['E', 15.0, 'unvisited', ['A', 'D', 'E']],\n",
       " ['E', inf, 'unvisited', ['A'], ['C', 5.0], ['G', 8.0]],\n",
       " ['F', 12.0, 'unvisited', ['A', 'D', 'F']],\n",
       " ['F', inf, 'unvisited', ['A'], ['B', 15.0], ['G', 10.0]]]"
      ]
     },
     "execution_count": 51,
     "metadata": {},
     "output_type": "execute_result"
    }
   ],
   "source": [
    "# Shuffle & sort:\n",
    "\n",
    "mapper_output = sorted(mapper_output)\n",
    "mapper_output"
   ]
  },
  {
   "cell_type": "code",
   "execution_count": 52,
   "metadata": {},
   "outputs": [
    {
     "data": {
      "text/plain": [
       "[['A', 0.0, 'visited', ['A'], ['B', 3.0], ['C', 4.0], ['D', 8.0]],\n",
       " ['B', 3.0, 'visited', ['A', 'B'], ['C', 4.0], ['E', 9.0]],\n",
       " ['C', 4.0, 'visited', ['A', 'C'], ['D', 4.0], ['E', 5.0]],\n",
       " ['D', 8.0, 'visited', ['A', 'D'], ['B', 6.0], ['E', 7.0], ['F', 4.0]],\n",
       " ['E', 9.0, 'unvisited', ['A', 'C', 'E'], ['C', 5.0], ['G', 8.0]],\n",
       " ['F', 12.0, 'unvisited', ['A', 'D', 'F'], ['B', 15.0], ['G', 10.0]]]"
      ]
     },
     "execution_count": 52,
     "metadata": {},
     "output_type": "execute_result"
    }
   ],
   "source": [
    "# ITERATION 2: reducer\n",
    "\n",
    "red_interm = []\n",
    "red_output = []\n",
    "key_in_output = []\n",
    "\n",
    "# Mise à jour des valeurs\n",
    "for l in mapper_output:\n",
    "    new_node = l.copy()\n",
    "    for m in mapper_output:\n",
    "        if (m[0] == new_node[0]) & (len(m) > 4) & (new_node[1] < m[1]) :\n",
    "            for i in range(len(m[4:])):\n",
    "                new_node.append(m[4:][i])\n",
    "    if len(new_node) > 4:\n",
    "        red_interm.append(new_node)\n",
    "\n",
    "\n",
    "for l in red_interm:\n",
    "    candidate = l\n",
    "    for m in red_interm:\n",
    "        if (l[0]== m[0]) & (m[1] < l[1]):\n",
    "            candidate = m\n",
    "    \n",
    "    if candidate[0] not in key_in_output:\n",
    "        red_output.append(candidate)\n",
    "        key_in_output.append(candidate[0])\n",
    "\n",
    "red_output"
   ]
  },
  {
   "cell_type": "code",
   "execution_count": 53,
   "metadata": {},
   "outputs": [
    {
     "data": {
      "text/plain": [
       "[['A', 0.0, 'visited', ['A'], ['B', 3.0], ['C', 4.0], ['D', 8.0]],\n",
       " ['B', 3.0, 'visited', ['A', 'B'], ['C', 4.0], ['E', 9.0]],\n",
       " ['C', 4.0, 'visited', ['A', 'C'], ['D', 4.0], ['E', 5.0]],\n",
       " ['D', 8.0, 'visited', ['A', 'D'], ['B', 6.0], ['E', 7.0], ['F', 4.0]],\n",
       " ['E', 9.0, 'visited', ['A', 'C', 'E'], ['C', 5.0], ['G', 8.0]],\n",
       " ['C', 14.0, 'unvisited', ['A', 'C', 'E']],\n",
       " ['G', 17.0, 'unvisited', ['A', 'C', 'E', 'G']],\n",
       " ['F', 12.0, 'visited', ['A', 'D', 'F'], ['B', 15.0], ['G', 10.0]],\n",
       " ['B', 27.0, 'unvisited', ['A', 'D', 'F', 'B']],\n",
       " ['G', 22.0, 'unvisited', ['A', 'D', 'F', 'G']]]"
      ]
     },
     "execution_count": 53,
     "metadata": {},
     "output_type": "execute_result"
    }
   ],
   "source": [
    "# ITERATION 3 : mapper\n",
    "\n",
    "mapper_output = []\n",
    "\n",
    "for l in red_output:\n",
    "    new_m = []\n",
    "    # conditions pour visiter un node: qu'il ne soit pas encore visite et que son weight soit différent de inf\n",
    "    if (l[2] == \"unvisited\") & (l[1] != math.inf):\n",
    "        l[2] = \"visited\"\n",
    "        \n",
    "        # mise à jour du path:\n",
    "        if l[0] not in l[3]:\n",
    "            l[3].append(l[0])\n",
    "        mapper_output.append(l)\n",
    "        \n",
    "        for m in l[4:]:\n",
    "           # nouvelles keys créées à partir des adjancy nodes du node visité\n",
    "            new_node = m.copy() # on a ici node_name + node distance to last neighbor\n",
    "            \n",
    "            # 2nd key - mise à jour des poids associés à chaque adjency node (but = toujours avoir distance from start)\n",
    "            new_node[1] = new_node[1] + l[1]\n",
    "            \n",
    "            # 3ème key - status\n",
    "            new_node.append(\"unvisited\")\n",
    "            \n",
    "            # 4ème key - path\n",
    "            new_path = l[3].copy() \n",
    "            if m[0] not in new_path:\n",
    "                new_path.append(m[0])\n",
    "            new_node.append(new_path)\n",
    "            \n",
    "            mapper_output.append(new_node)\n",
    "            \n",
    "    else:\n",
    "        mapper_output.append(l)\n",
    "\n",
    "mapper_output\n"
   ]
  },
  {
   "cell_type": "code",
   "execution_count": 54,
   "metadata": {},
   "outputs": [
    {
     "data": {
      "text/plain": [
       "[['A', 0.0, 'visited', ['A'], ['B', 3.0], ['C', 4.0], ['D', 8.0]],\n",
       " ['B', 3.0, 'visited', ['A', 'B'], ['C', 4.0], ['E', 9.0]],\n",
       " ['B', 27.0, 'unvisited', ['A', 'D', 'F', 'B']],\n",
       " ['C', 4.0, 'visited', ['A', 'C'], ['D', 4.0], ['E', 5.0]],\n",
       " ['C', 14.0, 'unvisited', ['A', 'C', 'E']],\n",
       " ['D', 8.0, 'visited', ['A', 'D'], ['B', 6.0], ['E', 7.0], ['F', 4.0]],\n",
       " ['E', 9.0, 'visited', ['A', 'C', 'E'], ['C', 5.0], ['G', 8.0]],\n",
       " ['F', 12.0, 'visited', ['A', 'D', 'F'], ['B', 15.0], ['G', 10.0]],\n",
       " ['G', 17.0, 'unvisited', ['A', 'C', 'E', 'G']],\n",
       " ['G', 22.0, 'unvisited', ['A', 'D', 'F', 'G']]]"
      ]
     },
     "execution_count": 54,
     "metadata": {},
     "output_type": "execute_result"
    }
   ],
   "source": [
    "# Shuffle & sort:\n",
    "\n",
    "mapper_output = sorted(mapper_output)\n",
    "mapper_output"
   ]
  },
  {
   "cell_type": "code",
   "execution_count": 55,
   "metadata": {},
   "outputs": [
    {
     "data": {
      "text/plain": [
       "[['A', 0.0, 'visited', ['A'], ['B', 3.0], ['C', 4.0], ['D', 8.0]],\n",
       " ['B', 3.0, 'visited', ['A', 'B'], ['C', 4.0], ['E', 9.0]],\n",
       " ['C', 4.0, 'visited', ['A', 'C'], ['D', 4.0], ['E', 5.0]],\n",
       " ['D', 8.0, 'visited', ['A', 'D'], ['B', 6.0], ['E', 7.0], ['F', 4.0]],\n",
       " ['E', 9.0, 'visited', ['A', 'C', 'E'], ['C', 5.0], ['G', 8.0]],\n",
       " ['F', 12.0, 'visited', ['A', 'D', 'F'], ['B', 15.0], ['G', 10.0]]]"
      ]
     },
     "execution_count": 55,
     "metadata": {},
     "output_type": "execute_result"
    }
   ],
   "source": [
    "# ITERATION 3: reducer\n",
    "\n",
    "red_interm = []\n",
    "red_output = []\n",
    "key_in_output = []\n",
    "\n",
    "# Mise à jour des valeurs\n",
    "for l in mapper_output:\n",
    "    new_node = l.copy()\n",
    "    for m in mapper_output:\n",
    "        if (m[0] == new_node[0]) & (len(m) > 4) & (new_node[1] < m[1]) :\n",
    "            for i in range(len(m[4:])):\n",
    "                new_node.append(m[4:][i])\n",
    "    if len(new_node) > 4:\n",
    "        red_interm.append(new_node)\n",
    "\n",
    "\n",
    "for l in red_interm:\n",
    "    candidate = l\n",
    "    for m in red_interm:\n",
    "        if (l[0]== m[0]) & (m[1] < l[1]):\n",
    "            candidate = m\n",
    "    \n",
    "    if candidate[0] not in key_in_output:\n",
    "        red_output.append(candidate)\n",
    "        key_in_output.append(candidate[0])\n",
    "\n",
    "red_output"
   ]
  },
  {
   "cell_type": "code",
   "execution_count": null,
   "metadata": {},
   "outputs": [],
   "source": []
  },
  {
   "cell_type": "code",
   "execution_count": null,
   "metadata": {},
   "outputs": [],
   "source": []
  },
  {
   "cell_type": "code",
   "execution_count": null,
   "metadata": {},
   "outputs": [],
   "source": []
  },
  {
   "cell_type": "code",
   "execution_count": null,
   "metadata": {},
   "outputs": [],
   "source": []
  },
  {
   "cell_type": "code",
   "execution_count": null,
   "metadata": {},
   "outputs": [],
   "source": []
  },
  {
   "cell_type": "markdown",
   "metadata": {},
   "source": [
    "# BROUILLON\n",
    "\n",
    "(au cas où)"
   ]
  },
  {
   "cell_type": "code",
   "execution_count": null,
   "metadata": {},
   "outputs": [],
   "source": [
    "# ITERATION 2: reducer\n",
    "\n",
    "red_output = []\n",
    "\n",
    "# Mise à jour des valeurs\n",
    "\n",
    "for l in mapper_output:\n",
    "    if len(l) < 5:\n",
    "        for m in mapper_output:\n",
    "            if (m[0] == l[0]) & (len(m) > 4):\n",
    "                for i in range(len(m[4:])):\n",
    "                    l.append(m[4:][i])\n",
    "\n",
    "for l in mapper_output:\n",
    "    new_list = l\n",
    "    for m in mapper_output:\n",
    "        if (l[0]== m[0]) & (m[1] < l[1]):\n",
    "            new_list = m\n",
    "    \n",
    "    if new_list not in red_output:\n",
    "        red_output.append(new_list)\n",
    "\n",
    "red_output"
   ]
  },
  {
   "cell_type": "code",
   "execution_count": null,
   "metadata": {},
   "outputs": [],
   "source": [
    "red_output = []\n",
    "\n",
    "# Mise à jour des valeurs\n",
    "\n",
    "for l in mapper_output:\n",
    "    if len(mapper_output) < 5:\n",
    "        for m in mapper_output:\n",
    "            if (m[0] == l[0]) & (len(m) > 4):\n",
    "                l.append(m[4:])\n",
    "        \n",
    "\n",
    "\n",
    "for i in range(len(mapper_output)):\n",
    "    current_node = mapper_output[0][0]\n",
    "    weight_node = mapper_output[0][0]\n",
    "    \n",
    "    for l in mapper_output:\n",
    "        if l[0] == current_node:\n",
    "            \n",
    "        \n",
    "        \n",
    "        "
   ]
  },
  {
   "cell_type": "code",
   "execution_count": null,
   "metadata": {},
   "outputs": [],
   "source": [
    "# mapper1 BROUILLON\n",
    "\n",
    "visited_table = []\n",
    "current_node = start\n",
    "current_dist = []\n",
    "\n",
    "for l in adlist:\n",
    "    if l[1] != math.inf:\n",
    "        visited_table.append(l[2:])\n",
    "    else:\n",
    "        var_list = []\n",
    "        for j in range(len(l[2:])):\n",
    "            var_list. append([l[2:][j][0], math.inf])\n",
    "        current_dist.append(var_list)\n",
    "            \n",
    "print(current_dist)\n",
    "print(visited_table)"
   ]
  },
  {
   "cell_type": "code",
   "execution_count": null,
   "metadata": {},
   "outputs": [],
   "source": [
    "[m[0] for m in visited_table[0]]"
   ]
  },
  {
   "cell_type": "code",
   "execution_count": null,
   "metadata": {},
   "outputs": [],
   "source": [
    "red_output = []\n",
    "\n",
    "for l in adlist:\n",
    "    for m in visited_table[0]:\n",
    "        if l[0] == m[0]:\n",
    "            l[1] = m[1]\n",
    "            for i in range(len(l[2:])):\n",
    "                l[2:][i][1] = l[2:][i][1] + m[1]\n",
    "                \n",
    "    red_output.append(l)\n",
    "\n",
    "red_output"
   ]
  },
  {
   "cell_type": "code",
   "execution_count": null,
   "metadata": {},
   "outputs": [],
   "source": [
    "red_output[2][1] != math.inf"
   ]
  },
  {
   "cell_type": "code",
   "execution_count": null,
   "metadata": {},
   "outputs": [],
   "source": [
    "## MAPPER 2\n",
    "# on veut avoir la liste des nodes parcourus, et garder les plus petits pour chaque point à partir du node d'avant\n",
    "\n",
    "step = 2 # on a parcouru tous les nodes qui étaient à 1 vecteur de start, maintenant on veut append les distances\n",
    "visited_table = []\n",
    "\n",
    "for l in red_output:\n",
    "    if l[1] != math.inf:\n",
    "        for i in range(len(l[2:])):\n",
    "            visited_table.append(l[2:][i])\n",
    "        \n",
    "visited_table"
   ]
  },
  {
   "cell_type": "code",
   "execution_count": null,
   "metadata": {},
   "outputs": [],
   "source": [
    "# ITERATION 1: mapper OLLDDDDDDD\n",
    "\n",
    "mapper_output = []\n",
    "\n",
    "for l in adlist:\n",
    "    new_m = []\n",
    "    \n",
    "    # conditions pour visiter un node: qu'il ne soit pas encore visite et que son weight soit différent de inf\n",
    "    if (l[2] == \"unvisited\") & (l[1] != math.inf):\n",
    "        l[2] = \"visited\"\n",
    "        \n",
    "        # mise à jour du path:\n",
    "        if l[0] not in l[3]:\n",
    "            l[3].append(l[0])\n",
    "        mapper_output.append(l)\n",
    "        \n",
    "        for m in l[4:]:\n",
    "            \n",
    "            # mise à jour des poids associés à chaque adjency node (but = toujours avoir distance from start)\n",
    "            m[1] = m[1] + l[1]\n",
    "\n",
    "            # nouvelles keys créées à partir des adjancy nodes du node visité\n",
    "            new_m = m.copy()\n",
    "            new_m.append(\"unvisited\")\n",
    "            new_m.append([l[0]])\n",
    "            mapper_output.append(new_m)\n",
    "            m[1] = m[1] + l[1]\n",
    "\n",
    "    else:\n",
    "        mapper_output.append(l)\n",
    "\n",
    "mapper_output"
   ]
  }
 ],
 "metadata": {
  "kernelspec": {
   "display_name": "Python 3",
   "language": "python",
   "name": "python3"
  },
  "language_info": {
   "codemirror_mode": {
    "name": "ipython",
    "version": 3
   },
   "file_extension": ".py",
   "mimetype": "text/x-python",
   "name": "python",
   "nbconvert_exporter": "python",
   "pygments_lexer": "ipython3",
   "version": "3.6.4"
  }
 },
 "nbformat": 4,
 "nbformat_minor": 2
}
